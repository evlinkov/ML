{
 "cells": [
  {
   "cell_type": "code",
   "execution_count": 1,
   "metadata": {
    "collapsed": true
   },
   "outputs": [],
   "source": [
    "from sklearn import datasets, metrics, naive_bayes\n",
    "from sklearn.model_selection import cross_val_score\n",
    "import numpy as np\n",
    "import matplotlib.pyplot as plt\n",
    "%matplotlib inline"
   ]
  },
  {
   "cell_type": "code",
   "execution_count": 2,
   "metadata": {
    "collapsed": true
   },
   "outputs": [],
   "source": [
    "digits = datasets.load_digits()\n",
    "breast_cancer = datasets.load_breast_cancer()"
   ]
  },
  {
   "cell_type": "code",
   "execution_count": 3,
   "metadata": {
    "collapsed": true
   },
   "outputs": [],
   "source": [
    "bernoulli = naive_bayes.BernoulliNB()\n",
    "multinom = naive_bayes.MultinomialNB()\n",
    "gaus = naive_bayes.GaussianNB()"
   ]
  },
  {
   "cell_type": "code",
   "execution_count": 4,
   "metadata": {
    "collapsed": false
   },
   "outputs": [
    {
     "name": "stdout",
     "output_type": "stream",
     "text": [
      "BernoulliNB digits  0.825823650778\n",
      "MultinomialNB digits  0.870877148974\n",
      "GaussianNB digits  0.818600380355\n",
      "BernoulliNB breast_cancer  0.627420402859\n",
      "MultinomialNB breast_cancer  0.894579040193\n",
      "GaussianNB breast_cancer  0.936749280609\n"
     ]
    }
   ],
   "source": [
    "print \"BernoulliNB digits \", cross_val_score(bernoulli, digits.data, digits.target).mean(0)\n",
    "print \"MultinomialNB digits \", cross_val_score(multinom, digits.data, digits.target).mean(0)\n",
    "print \"GaussianNB digits \", cross_val_score(gaus, digits.data, digits.target).mean(0)\n",
    "print \"BernoulliNB breast_cancer \", cross_val_score(bernoulli, breast_cancer.data, breast_cancer.target).mean(0)\n",
    "print \"MultinomialNB breast_cancer \", cross_val_score(multinom, breast_cancer.data, breast_cancer.target).mean(0)\n",
    "print \"GaussianNB breast_cancer \", cross_val_score(gaus, breast_cancer.data, breast_cancer.target).mean(0)"
   ]
  }
 ],
 "metadata": {
  "anaconda-cloud": {},
  "kernelspec": {
   "display_name": "Python [conda root]",
   "language": "python",
   "name": "conda-root-py"
  },
  "language_info": {
   "codemirror_mode": {
    "name": "ipython",
    "version": 2
   },
   "file_extension": ".py",
   "mimetype": "text/x-python",
   "name": "python",
   "nbconvert_exporter": "python",
   "pygments_lexer": "ipython2",
   "version": "2.7.13"
  }
 },
 "nbformat": 4,
 "nbformat_minor": 2
}
