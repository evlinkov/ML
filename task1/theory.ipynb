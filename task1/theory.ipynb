{
 "cells": [
  {
   "cell_type": "markdown",
   "metadata": {},
   "source": [
    "## 4.1 Наивный байес и центроидный классификатор\n",
    "\n",
    "Из условия :\n",
    "\n",
    "$P(x^{(k)} \\mid y)$ = $\\frac{1}{\\sqrt{2 * \\pi * \\sigma^2}} * e^{\\frac{-(x^{(k)} - \\mu_{yk})^2}{2 * \\sigma^2}}$\n",
    "\n",
    "Условие байесовского классификатора : $y(x) = \\underset{y}{\\mathrm{argmax}}  P(y \\mid x)$\n",
    "\n",
    "Формула Байеса :  $y(x) = \\underset{y}{\\mathrm{argmax}} P(x \\mid y) \\cdot P(y)$ \n",
    "\n",
    "Но используя данные из условия (про одинаковые вероятности) получим, что $y(x) = \\underset{y}{\\mathrm{argmax}}  P(x \\mid y)$\n",
    "\n",
    "$y(x) = \\underset{y}{\\mathrm{argmax}} (\\frac{1}{{(2 * \\pi * \\sigma^2)}^{n/2}} * e^{-\\sum_{1}^{n}{\\frac{(x^{(k)} - \\mu_{yk})^2}{2 * \\sigma^2}}}) = \\underset{y}{\\mathrm{argmax}} (p(x, \\mu_{y}))$\n",
    "\n",
    "Таким образом, y, центр которого $\\mu_y$ ближе всего к x."
   ]
  },
  {
   "cell_type": "markdown",
   "metadata": {},
   "source": [
    "## 4.2 ROC-AUC случайных ответов\n",
    "\n",
    "Пусть выборка n : $n_{0}$ , $n_{1}$ элементы соответствующих классов\n",
    "\n",
    "TPR = $\\frac{TP}{TP + FN} = \\frac{TP}{n_{1}}$\n",
    "\n",
    "FPR = $\\frac{FP}{FP + TN} = \\frac{FP}{n_{0}}$\n",
    "\n",
    "$TP = p * n_{1}$\n",
    "\n",
    "Искомая кривая это ломаная из 3 точек : (0, 0) , (TPR, FRP) , (1,1)\n",
    "\n",
    "S = $S_{1} + S_{2}$ = $\\frac{1}{2} * (FPR * TPR + (1 + FPR) * (1 - TPR)) = $\n",
    "\n",
    "\n",
    "$= \\frac{1}{2} * (1 - \\frac{n * (TP - p * n_{1})}{n_{0} * n_{1}}) = \\frac{1}{2}$\n",
    "\n",
    "Таким образом получаем, что \"треугольный ROC-AUC\" будет в среднем $\\frac{1}{2}$."
   ]
  },
  {
   "cell_type": "markdown",
   "metadata": {},
   "source": [
    "## 4.3 Ошибка 1NN и оптимального байесовского классификатора\n",
    "\n",
    "Байесовский классификатор :\n",
    "\n",
    "1, если $P(1 \\mid x) > P(0 \\mid x)$\n",
    "\n",
    "0, если $P(0 \\mid x) > P(1 \\mid x)$\n",
    "\n",
    "Из условия : $ E_B(x) = \\min ( P(1 \\mid x), P(0 \\mid x) ) $\n",
    "\n",
    "Метод ближайшего соседа ошибается с вероятностью : $ E_N(x) = P(y \\neq y_{n}) $\n",
    "\n",
    "$ E_N(x) = P(y \\neq y_{n}) = P(y = 0, y_{n} = 1) + P(y = 1, y_{n} = 0) = $\n",
    "\n",
    "$ = P(0 \\mid x) * P(1 \\mid x_{n}) + P(1 \\mid x) * P(0 \\mid x_{n}) = $\n",
    "\n",
    "$ = 2 * P (0 \\mid x) * P(1 \\mid x) = 2 * (1 - E_B(x)) * E_B(x) <= 2 * E_B(x)$\n",
    "\n",
    "Итак, доказали исходное утверждение. "
   ]
  }
 ],
 "metadata": {
  "anaconda-cloud": {},
  "kernelspec": {
   "display_name": "Python [conda root]",
   "language": "python",
   "name": "conda-root-py"
  },
  "language_info": {
   "codemirror_mode": {
    "name": "ipython",
    "version": 2
   },
   "file_extension": ".py",
   "mimetype": "text/x-python",
   "name": "python",
   "nbconvert_exporter": "python",
   "pygments_lexer": "ipython2",
   "version": "2.7.13"
  }
 },
 "nbformat": 4,
 "nbformat_minor": 2
}
